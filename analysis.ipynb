{
 "cells": [
  {
   "cell_type": "code",
   "execution_count": 58,
   "metadata": {},
   "outputs": [],
   "source": [
    "import pandas as pd\n",
    "import string\n",
    "import nltk"
   ]
  },
  {
   "attachments": {},
   "cell_type": "markdown",
   "metadata": {},
   "source": [
    "### Mise en forme des caractéres : tout en minuscule, suppression de la ponctuation et des chiffres "
   ]
  },
  {
   "cell_type": "code",
   "execution_count": 59,
   "metadata": {},
   "outputs": [],
   "source": [
    "df = pd.read_csv(\"Emotion_final.csv\")\n",
    "df = df.apply(lambda x: x.astype(str).str.lower())\n",
    "df['Text'] = df['Text'].str.replace('[{}\\d]'.format(string.punctuation), '', regex=True)"
   ]
  },
  {
   "cell_type": "code",
   "execution_count": 60,
   "metadata": {},
   "outputs": [
    {
     "data": {
      "text/html": [
       "<div>\n",
       "<style scoped>\n",
       "    .dataframe tbody tr th:only-of-type {\n",
       "        vertical-align: middle;\n",
       "    }\n",
       "\n",
       "    .dataframe tbody tr th {\n",
       "        vertical-align: top;\n",
       "    }\n",
       "\n",
       "    .dataframe thead th {\n",
       "        text-align: right;\n",
       "    }\n",
       "</style>\n",
       "<table border=\"1\" class=\"dataframe\">\n",
       "  <thead>\n",
       "    <tr style=\"text-align: right;\">\n",
       "      <th></th>\n",
       "      <th>Text</th>\n",
       "      <th>Emotion</th>\n",
       "    </tr>\n",
       "  </thead>\n",
       "  <tbody>\n",
       "    <tr>\n",
       "      <th>0</th>\n",
       "      <td>i didnt feel humiliated</td>\n",
       "      <td>sadness</td>\n",
       "    </tr>\n",
       "    <tr>\n",
       "      <th>1</th>\n",
       "      <td>i can go from feeling so hopeless to so damned...</td>\n",
       "      <td>sadness</td>\n",
       "    </tr>\n",
       "    <tr>\n",
       "      <th>2</th>\n",
       "      <td>im grabbing a minute to post i feel greedy wrong</td>\n",
       "      <td>anger</td>\n",
       "    </tr>\n",
       "    <tr>\n",
       "      <th>3</th>\n",
       "      <td>i am ever feeling nostalgic about the fireplac...</td>\n",
       "      <td>love</td>\n",
       "    </tr>\n",
       "    <tr>\n",
       "      <th>4</th>\n",
       "      <td>i am feeling grouchy</td>\n",
       "      <td>anger</td>\n",
       "    </tr>\n",
       "    <tr>\n",
       "      <th>...</th>\n",
       "      <td>...</td>\n",
       "      <td>...</td>\n",
       "    </tr>\n",
       "    <tr>\n",
       "      <th>21454</th>\n",
       "      <td>melissa stared at her friend in dism</td>\n",
       "      <td>fear</td>\n",
       "    </tr>\n",
       "    <tr>\n",
       "      <th>21455</th>\n",
       "      <td>successive state elections have seen the gover...</td>\n",
       "      <td>fear</td>\n",
       "    </tr>\n",
       "    <tr>\n",
       "      <th>21456</th>\n",
       "      <td>vincent was irritated but not dismay</td>\n",
       "      <td>fear</td>\n",
       "    </tr>\n",
       "    <tr>\n",
       "      <th>21457</th>\n",
       "      <td>kendallhume turned back to face the dismayed coup</td>\n",
       "      <td>fear</td>\n",
       "    </tr>\n",
       "    <tr>\n",
       "      <th>21458</th>\n",
       "      <td>i am dismayed  but not surpris</td>\n",
       "      <td>fear</td>\n",
       "    </tr>\n",
       "  </tbody>\n",
       "</table>\n",
       "<p>21459 rows × 2 columns</p>\n",
       "</div>"
      ],
      "text/plain": [
       "                                                    Text  Emotion\n",
       "0                                i didnt feel humiliated  sadness\n",
       "1      i can go from feeling so hopeless to so damned...  sadness\n",
       "2       im grabbing a minute to post i feel greedy wrong    anger\n",
       "3      i am ever feeling nostalgic about the fireplac...     love\n",
       "4                                   i am feeling grouchy    anger\n",
       "...                                                  ...      ...\n",
       "21454               melissa stared at her friend in dism     fear\n",
       "21455  successive state elections have seen the gover...     fear\n",
       "21456               vincent was irritated but not dismay     fear\n",
       "21457  kendallhume turned back to face the dismayed coup     fear\n",
       "21458                     i am dismayed  but not surpris     fear\n",
       "\n",
       "[21459 rows x 2 columns]"
      ]
     },
     "execution_count": 60,
     "metadata": {},
     "output_type": "execute_result"
    }
   ],
   "source": [
    "df"
   ]
  },
  {
   "cell_type": "code",
   "execution_count": 61,
   "metadata": {},
   "outputs": [
    {
     "data": {
      "text/html": [
       "<div>\n",
       "<style scoped>\n",
       "    .dataframe tbody tr th:only-of-type {\n",
       "        vertical-align: middle;\n",
       "    }\n",
       "\n",
       "    .dataframe tbody tr th {\n",
       "        vertical-align: top;\n",
       "    }\n",
       "\n",
       "    .dataframe thead th {\n",
       "        text-align: right;\n",
       "    }\n",
       "</style>\n",
       "<table border=\"1\" class=\"dataframe\">\n",
       "  <thead>\n",
       "    <tr style=\"text-align: right;\">\n",
       "      <th></th>\n",
       "      <th>Text</th>\n",
       "      <th>Emotion</th>\n",
       "    </tr>\n",
       "  </thead>\n",
       "  <tbody>\n",
       "    <tr>\n",
       "      <th>count</th>\n",
       "      <td>21459</td>\n",
       "      <td>21459</td>\n",
       "    </tr>\n",
       "    <tr>\n",
       "      <th>unique</th>\n",
       "      <td>21405</td>\n",
       "      <td>6</td>\n",
       "    </tr>\n",
       "    <tr>\n",
       "      <th>top</th>\n",
       "      <td>i feel so tortured by it</td>\n",
       "      <td>happy</td>\n",
       "    </tr>\n",
       "    <tr>\n",
       "      <th>freq</th>\n",
       "      <td>2</td>\n",
       "      <td>7029</td>\n",
       "    </tr>\n",
       "  </tbody>\n",
       "</table>\n",
       "</div>"
      ],
      "text/plain": [
       "                            Text Emotion\n",
       "count                      21459   21459\n",
       "unique                     21405       6\n",
       "top     i feel so tortured by it   happy\n",
       "freq                           2    7029"
      ]
     },
     "execution_count": 61,
     "metadata": {},
     "output_type": "execute_result"
    }
   ],
   "source": [
    "df.describe()"
   ]
  },
  {
   "attachments": {},
   "cell_type": "markdown",
   "metadata": {},
   "source": [
    "### Suppression des doublons"
   ]
  },
  {
   "cell_type": "code",
   "execution_count": 62,
   "metadata": {},
   "outputs": [
    {
     "data": {
      "text/plain": [
       "False    21456\n",
       "True         3\n",
       "dtype: int64"
      ]
     },
     "execution_count": 62,
     "metadata": {},
     "output_type": "execute_result"
    }
   ],
   "source": [
    "dup = df.duplicated()\n",
    "dup.value_counts()"
   ]
  },
  {
   "cell_type": "code",
   "execution_count": 63,
   "metadata": {},
   "outputs": [],
   "source": [
    "df = df.drop_duplicates(keep='last')"
   ]
  },
  {
   "cell_type": "code",
   "execution_count": 64,
   "metadata": {},
   "outputs": [
    {
     "data": {
      "text/plain": [
       "array(['sadness', 'anger', 'love', 'surprise', 'fear', 'happy'],\n",
       "      dtype=object)"
      ]
     },
     "execution_count": 64,
     "metadata": {},
     "output_type": "execute_result"
    }
   ],
   "source": [
    "df.Emotion.unique()"
   ]
  },
  {
   "cell_type": "code",
   "execution_count": 65,
   "metadata": {},
   "outputs": [
    {
     "data": {
      "text/plain": [
       "happy       7028\n",
       "sadness     6265\n",
       "anger       2992\n",
       "fear        2651\n",
       "love        1641\n",
       "surprise     879\n",
       "Name: Emotion, dtype: int64"
      ]
     },
     "execution_count": 65,
     "metadata": {},
     "output_type": "execute_result"
    }
   ],
   "source": [
    "df.Emotion.value_counts()"
   ]
  },
  {
   "cell_type": "code",
   "execution_count": 66,
   "metadata": {},
   "outputs": [
    {
     "name": "stderr",
     "output_type": "stream",
     "text": [
      "[nltk_data] Downloading package stopwords to\n",
      "[nltk_data]     /home/apprenant/nltk_data...\n",
      "[nltk_data]   Package stopwords is already up-to-date!\n"
     ]
    },
    {
     "data": {
      "text/plain": [
       "True"
      ]
     },
     "execution_count": 66,
     "metadata": {},
     "output_type": "execute_result"
    }
   ],
   "source": [
    "from nltk.corpus import stopwords\n",
    "nltk.download('stopwords')"
   ]
  },
  {
   "attachments": {},
   "cell_type": "markdown",
   "metadata": {},
   "source": [
    "### Stopwords"
   ]
  },
  {
   "cell_type": "code",
   "execution_count": 67,
   "metadata": {},
   "outputs": [],
   "source": [
    "stops = set(stopwords.words('english'))\n",
    "nv_mots_stops = ['feel', 'feeling','feelings', 'look', 'days','life','like','im','really', 'see', 'life', 'today','didnt','go', 'know', 'get', 'want', 'would', 'time', 'little', 'ive', 'still', 'even', 'one',  'people', 'think', 'bit', 'things', 'much', 'dont', 'make', 'day', 'something', 'back', 'going', 'way', 'could']\n",
    "stops.update(nv_mots_stops)"
   ]
  },
  {
   "attachments": {},
   "cell_type": "markdown",
   "metadata": {},
   "source": [
    "### Les 30 mots les plus frequents par sentiments"
   ]
  },
  {
   "cell_type": "code",
   "execution_count": 68,
   "metadata": {},
   "outputs": [],
   "source": [
    "def top_30_mots(texts, n=30):\n",
    "    mots = []\n",
    "    for text in texts:\n",
    "        for mot in text.split():\n",
    "            if mot.isalpha() and mot not in stops:\n",
    "                mots.append(mot)\n",
    "    mot_freq = {mot: mots.count(mot) for mot in set(mots)}\n",
    "    top_mots = sorted(mot_freq.items(), key=lambda x: x[1], reverse=True)[:n]\n",
    "    return top_mots\n",
    "\n",
    "sentiments = ['sadness', 'anger', 'love', 'surprise', 'fear', 'happy']\n",
    "\n",
    "top_mots_par_sentiment = {}\n",
    "\n",
    "for sentiment in sentiments:\n",
    "    texts = df[df['Emotion'] == sentiment]['Text']\n",
    "    top_mots = top_30_mots(texts)\n",
    "    top_mots_par_sentiment[sentiment] = top_mots\n",
    "\n"
   ]
  },
  {
   "cell_type": "code",
   "execution_count": 69,
   "metadata": {},
   "outputs": [
    {
     "data": {
      "text/plain": [
       "[('pretty', 146),\n",
       " ('right', 143),\n",
       " ('always', 141),\n",
       " ('love', 138),\n",
       " ('felt', 136),\n",
       " ('cant', 132),\n",
       " ('sad', 130),\n",
       " ('alone', 127),\n",
       " ('bad', 126),\n",
       " ('say', 125),\n",
       " ('made', 124),\n",
       " ('depressed', 123),\n",
       " ('work', 121),\n",
       " ('need', 121),\n",
       " ('good', 121),\n",
       " ('never', 111),\n",
       " ('miserable', 108),\n",
       " ('though', 104),\n",
       " ('lost', 101),\n",
       " ('kind', 101),\n",
       " ('also', 100),\n",
       " ('last', 99),\n",
       " ('left', 99),\n",
       " ('feels', 99),\n",
       " ('home', 99),\n",
       " ('many', 98),\n",
       " ('help', 98),\n",
       " ('sorry', 97),\n",
       " ('stupid', 95),\n",
       " ('guilty', 95)]"
      ]
     },
     "execution_count": 69,
     "metadata": {},
     "output_type": "execute_result"
    }
   ],
   "source": [
    "top_mots_par_sentiment[\"sadness\"]"
   ]
  },
  {
   "attachments": {},
   "cell_type": "markdown",
   "metadata": {},
   "source": [
    "### HeatMap des mots les plus frequents par sentiment"
   ]
  },
  {
   "cell_type": "code",
   "execution_count": 70,
   "metadata": {},
   "outputs": [
    {
     "data": {
      "image/png": "[encoded data removed]",
      "text/plain": [
       "<Figure size 1000x800 with 2 Axes>"
      ]
     },
     "metadata": {},
     "output_type": "display_data"
    }
   ],
   "source": [
    "import seaborn as sns\n",
    "import numpy as np\n",
    "import matplotlib.pyplot as plt\n",
    "\n",
    "matrice = pd.DataFrame(index=sentiments, columns=sentiments)\n",
    "\n",
    "for sentiment1 in sentiments:\n",
    "    for sentiment2 in sentiments:\n",
    "        mots1 = set(mot for mot, _ in top_mots_par_sentiment[sentiment1])\n",
    "        mots2 = set(mot for mot, _ in top_mots_par_sentiment[sentiment2])\n",
    "        mots_commmun = len(mots1 & mots2)\n",
    "        matrice.loc[sentiment1, sentiment2] = mots_commmun\n",
    "\n",
    "matrice = matrice.astype(int)   \n",
    "\n",
    "mask = np.triu(np.ones_like(matrice, dtype=bool))\n",
    "\n",
    "plt.figure(figsize=(10, 8))\n",
    "sns.heatmap(matrice, annot=True, cmap='coolwarm', mask=mask)\n",
    "plt.show()\n"
   ]
  },
  {
   "attachments": {},
   "cell_type": "markdown",
   "metadata": {},
   "source": [
    "    Pour chaque sentiment on calcule le nombre de mots en commun entre les 30 mots les plus fréquents en convertissant les listes de mots en ensemble. Ensuite on compte les mots qui apparaissent dans les deux set. Le nombre de mots en commun est ensuite affiché dans la matrice"
   ]
  },
  {
   "attachments": {},
   "cell_type": "markdown",
   "metadata": {},
   "source": [
    "### Creation de deux modéle \n",
    "- bow avec LogisticRegression"
   ]
  },
  {
   "cell_type": "code",
   "execution_count": 71,
   "metadata": {},
   "outputs": [
    {
     "name": "stderr",
     "output_type": "stream",
     "text": [
      "[nltk_data] Downloading package punkt to /home/apprenant/nltk_data...\n",
      "[nltk_data]   Package punkt is already up-to-date!\n",
      "[nltk_data] Downloading package wordnet to\n",
      "[nltk_data]     /home/apprenant/nltk_data...\n",
      "[nltk_data]   Package wordnet is already up-to-date!\n"
     ]
    },
    {
     "name": "stdout",
     "output_type": "stream",
     "text": [
      "Accuracy:  0.89\n"
     ]
    },
    {
     "name": "stderr",
     "output_type": "stream",
     "text": [
      "/home/apprenant/.local/lib/python3.10/site-packages/sklearn/linear_model/_logistic.py:458: ConvergenceWarning: lbfgs failed to converge (status=1):\n",
      "STOP: TOTAL NO. of ITERATIONS REACHED LIMIT.\n",
      "\n",
      "Increase the number of iterations (max_iter) or scale the data as shown in:\n",
      "    https://scikit-learn.org/stable/modules/preprocessing.html\n",
      "Please also refer to the documentation for alternative solver options:\n",
      "    https://scikit-learn.org/stable/modules/linear_model.html#logistic-regression\n",
      "  n_iter_i = _check_optimize_result(\n"
     ]
    }
   ],
   "source": [
    "from sklearn.feature_extraction.text import CountVectorizer\n",
    "from sklearn.linear_model import LogisticRegression\n",
    "from sklearn.pipeline import Pipeline\n",
    "from sklearn.model_selection import train_test_split\n",
    "from sklearn.metrics import accuracy_score\n",
    "from nltk.tokenize import word_tokenize\n",
    "from nltk.stem import WordNetLemmatizer\n",
    "\n",
    "nltk.download('punkt')\n",
    "nltk.download('wordnet')\n",
    "\n",
    "stops = list(stops)\n",
    "\n",
    "lemmatizer = WordNetLemmatizer()\n",
    "\n",
    "def preprocess_text(text):\n",
    "    return ' '.join(lemmatizer.lemmatize(term) for term in word_tokenize(text.lower()) if term not in stops)\n",
    "\n",
    "X = df['Text'].apply(preprocess_text)\n",
    "y = df['Emotion']\n",
    "\n",
    "X_train, X_test, y_train, y_test = train_test_split(X, y, test_size=0.2, random_state=42)\n",
    "\n",
    "pipeline = Pipeline([\n",
    "    ('bow', CountVectorizer(stop_words=stops)),\n",
    "    ('clf', LogisticRegression()),# Meilleur paramétres C=20.52695741523762, max_iter=186, solver='saga', penalty='l1'\n",
    "])\n",
    "\n",
    "pipeline.fit(X_train, y_train)\n",
    "\n",
    "preds = pipeline.predict(X_test)\n",
    "\n",
    "print(\"Accuracy: \", accuracy_score(y_test, preds).round(2))"
   ]
  },
  {
   "attachments": {},
   "cell_type": "markdown",
   "metadata": {},
   "source": [
    "- TFIDF avec RandomForestClassifier  "
   ]
  },
  {
   "cell_type": "code",
   "execution_count": 72,
   "metadata": {},
   "outputs": [
    {
     "name": "stderr",
     "output_type": "stream",
     "text": [
      "[nltk_data] Downloading package punkt to /home/apprenant/nltk_data...\n",
      "[nltk_data]   Package punkt is already up-to-date!\n",
      "[nltk_data] Downloading package wordnet to\n",
      "[nltk_data]     /home/apprenant/nltk_data...\n",
      "[nltk_data]   Package wordnet is already up-to-date!\n",
      "[nltk_data] Downloading package stopwords to\n",
      "[nltk_data]     /home/apprenant/nltk_data...\n",
      "[nltk_data]   Package stopwords is already up-to-date!\n"
     ]
    },
    {
     "name": "stdout",
     "output_type": "stream",
     "text": [
      "Accuracy:  0.89\n"
     ]
    },
    {
     "data": {
      "text/plain": [
       "['model_tfidf.joblib']"
      ]
     },
     "execution_count": 72,
     "metadata": {},
     "output_type": "execute_result"
    }
   ],
   "source": [
    "from sklearn.feature_extraction.text import TfidfVectorizer\n",
    "from sklearn.ensemble import RandomForestClassifier\n",
    "import joblib\n",
    "\n",
    "nltk.download('punkt')\n",
    "nltk.download('wordnet')\n",
    "nltk.download('stopwords')\n",
    "\n",
    "stops = list(stops)\n",
    "\n",
    "lemmatizer = WordNetLemmatizer()\n",
    "\n",
    "def preprocess_text(text):\n",
    "    return ' '.join(lemmatizer.lemmatize(term) for term in word_tokenize(text.lower()) if term not in stops)\n",
    "\n",
    "X = df['Text'].apply(preprocess_text)\n",
    "y = df['Emotion']\n",
    "\n",
    "X_train, X_test, y_train, y_test = train_test_split(X, y, test_size=0.2, random_state=42)\n",
    "\n",
    "pipeline = Pipeline([\n",
    "    ('tfidf', TfidfVectorizer(stop_words=stops)),\n",
    "    ('clf', RandomForestClassifier()),\n",
    "])\n",
    "\n",
    "pipeline.fit(X_train, y_train)\n",
    "\n",
    "preds = pipeline.predict(X_test)\n",
    "\n",
    "print(\"Accuracy: \", accuracy_score(y_test, preds).round(2))\n",
    "\n",
    "joblib.dump(pipeline, 'model_tfidf.joblib')"
   ]
  },
  {
   "attachments": {},
   "cell_type": "markdown",
   "metadata": {},
   "source": [
    "## Stocker les données avec ElasticSearch"
   ]
  },
  {
   "attachments": {},
   "cell_type": "markdown",
   "metadata": {},
   "source": [
    "### Mise en place\n",
    "\n",
    "- docker run -d -p 9200:9200 -v /usr/share/elasticsearch/data -e \"discovery.type=single-node\" --name elastic docker.elastic.co/elasticsearch/elasticsearch:7.17.10\n",
    "- docker logs elastic\n",
    "- curl http://localhost:9200/\n"
   ]
  },
  {
   "attachments": {},
   "cell_type": "markdown",
   "metadata": {},
   "source": [
    "### Mapper et importer les données "
   ]
  },
  {
   "cell_type": "code",
   "execution_count": 73,
   "metadata": {},
   "outputs": [
    {
     "name": "stderr",
     "output_type": "stream",
     "text": [
      "/tmp/ipykernel_26129/3646530617.py:24: DeprecationWarning: The 'body' parameter is deprecated and will be removed in a future version. Instead use individual parameters.\n",
      "  es.indices.create(index=\"notes\", body=mapping)\n",
      "/tmp/ipykernel_26129/3646530617.py:24: ElasticsearchWarning: Elasticsearch built-in security features are not enabled. Without authentication, your cluster could be accessible to anyone. See https://www.elastic.co/guide/en/elasticsearch/reference/7.17/security-minimal-setup.html to enable security.\n",
      "  es.indices.create(index=\"notes\", body=mapping)\n",
      "/tmp/ipykernel_26129/3646530617.py:50: DeprecationWarning: The 'body' parameter is deprecated and will be removed in a future version. Instead use the 'document' parameter. See https://github.com/elastic/elasticsearch-py/issues/1698 for more information\n",
      "  es.index(index=\"notes\", body=document)\n",
      "/tmp/ipykernel_26129/3646530617.py:50: ElasticsearchWarning: Elasticsearch built-in security features are not enabled. Without authentication, your cluster could be accessible to anyone. See https://www.elastic.co/guide/en/elasticsearch/reference/7.17/security-minimal-setup.html to enable security.\n",
      "  es.index(index=\"notes\", body=document)\n"
     ]
    }
   ],
   "source": [
    "from datetime import datetime\n",
    "from faker import Faker\n",
    "from elasticsearch import Elasticsearch\n",
    "\n",
    "\n",
    "model = joblib.load('model_tfidf.joblib')\n",
    "fake = Faker()\n",
    "es = Elasticsearch(hosts=[\"http://localhost:9200\"])\n",
    "\n",
    "mapping = {\n",
    "    \"mappings\": {\n",
    "        \"properties\": {\n",
    "            \"patient_lastname\": {\"type\": \"mot_cle\"},\n",
    "            \"patient_firstname\": {\"type\": \"mot_cle\"},\n",
    "            \"text\": {\"type\": \"text\", \"analyzer\": \"standard\"},\n",
    "            \"date\": {\"type\": \"date\"},\n",
    "            \"patient_left\": {\"type\": \"boolean\"},\n",
    "            \"emotion\": {\"type\": \"mot_cle\"},\n",
    "            \"confidence\": {\"type\": \"float\"}\n",
    "        }\n",
    "    }\n",
    "}\n",
    "\n",
    "es.indices.create(index=\"notes\", body=mapping)\n",
    "\n",
    "csv_df = pd.read_csv('Emotion_final.csv')\n",
    "\n",
    "for i in range(csv_df.shape[0]):\n",
    "    patient_lastname = fake.last_name()\n",
    "    patient_firstname = fake.first_name()\n",
    "    text = csv_df['Text'].iloc[i] \n",
    "    date = fake.date_between(start_date='-1y', end_date='today')\n",
    "    patient_left = fake.boolean()\n",
    "    \n",
    "    processed_text = preprocess_text(text)\n",
    "    \n",
    "    emotion = model.predict([processed_text])[0]\n",
    "    confidence = model.predict_proba([processed_text])[0].max()\n",
    "    \n",
    "    document = {\n",
    "        \"patient_lastname\": patient_lastname,\n",
    "        \"patient_firstname\": patient_firstname,\n",
    "        \"text\": text,\n",
    "        \"date\": date,\n",
    "        \"patient_left\": patient_left,\n",
    "        \"emotion\": emotion,\n",
    "        \"confidence\": confidence\n",
    "    }\n",
    "    \n",
    "    es.index(index=\"notes\", body=document)"
   ]
  },
  {
   "attachments": {},
   "cell_type": "markdown",
   "metadata": {},
   "source": [
    "### Requetes"
   ]
  },
  {
   "cell_type": "code",
   "execution_count": 77,
   "metadata": {},
   "outputs": [
    {
     "name": "stderr",
     "output_type": "stream",
     "text": [
      "/tmp/ipykernel_26129/2552449065.py:1: DeprecationWarning: The 'body' parameter is deprecated and will be removed in a future version. Instead use individual parameters.\n",
      "  result = es.search(index='notes', body={\n",
      "/tmp/ipykernel_26129/2552449065.py:1: ElasticsearchWarning: Elasticsearch built-in security features are not enabled. Without authentication, your cluster could be accessible to anyone. See https://www.elastic.co/guide/en/elasticsearch/reference/7.17/security-minimal-setup.html to enable security.\n",
      "  result = es.search(index='notes', body={\n"
     ]
    }
   ],
   "source": [
    "result = es.search(index='notes', body={\n",
    "    \"query\": {\n",
    "        \"bool\": {\n",
    "            \"must\": [\n",
    "                {\"term\": {\"patient_lastname\": \"Ramirez\"}},\n",
    "                {\"term\": {\"patient_firstname\": \"Daisy\"}}\n",
    "            ]\n",
    "        }\n",
    "    }\n",
    "})\n"
   ]
  },
  {
   "cell_type": "code",
   "execution_count": 78,
   "metadata": {},
   "outputs": [],
   "source": [
    "sentiments = [doc['_source']['emotion'] for doc in result['hits']['hits']]\n",
    "df = pd.DataFrame(sentiments, columns=['Sentiment'])"
   ]
  },
  {
   "cell_type": "code",
   "execution_count": 80,
   "metadata": {},
   "outputs": [
    {
     "data": {
      "text/html": [
       "<div>\n",
       "<style scoped>\n",
       "    .dataframe tbody tr th:only-of-type {\n",
       "        vertical-align: middle;\n",
       "    }\n",
       "\n",
       "    .dataframe tbody tr th {\n",
       "        vertical-align: top;\n",
       "    }\n",
       "\n",
       "    .dataframe thead th {\n",
       "        text-align: right;\n",
       "    }\n",
       "</style>\n",
       "<table border=\"1\" class=\"dataframe\">\n",
       "  <thead>\n",
       "    <tr style=\"text-align: right;\">\n",
       "      <th></th>\n",
       "      <th>Sentiment</th>\n",
       "    </tr>\n",
       "  </thead>\n",
       "  <tbody>\n",
       "    <tr>\n",
       "      <th>0</th>\n",
       "      <td>happy</td>\n",
       "    </tr>\n",
       "  </tbody>\n",
       "</table>\n",
       "</div>"
      ],
      "text/plain": [
       "  Sentiment\n",
       "0     happy"
      ]
     },
     "execution_count": 80,
     "metadata": {},
     "output_type": "execute_result"
    },
    {
     "data": {
      "image/png": "[encoded data removed]",
      "text/plain": [
       "<Figure size 640x480 with 1 Axes>"
      ]
     },
     "metadata": {},
     "output_type": "display_data"
    }
   ],
   "source": [
    "sentiment_counts = df['Sentiment'].value_counts()\n",
    "sentiment_counts.plot(kind='bar', xlabel='Sentiment', ylabel='Count')\n"
   ]
  },
  {
   "cell_type": "code",
   "execution_count": 84,
   "metadata": {},
   "outputs": [
    {
     "name": "stderr",
     "output_type": "stream",
     "text": [
      "/tmp/ipykernel_26129/648854431.py:1: DeprecationWarning: The 'body' parameter is deprecated and will be removed in a future version. Instead use individual parameters.\n",
      "  response = es.search(\n",
      "/tmp/ipykernel_26129/648854431.py:1: ElasticsearchWarning: Elasticsearch built-in security features are not enabled. Without authentication, your cluster could be accessible to anyone. See https://www.elastic.co/guide/en/elasticsearch/reference/7.17/security-minimal-setup.html to enable security.\n",
      "  response = es.search(\n",
      "/tmp/ipykernel_26129/648854431.py:22: ElasticsearchWarning: Elasticsearch built-in security features are not enabled. Without authentication, your cluster could be accessible to anyone. See https://www.elastic.co/guide/en/elasticsearch/reference/7.17/security-minimal-setup.html to enable security.\n",
      "  response = es.scroll(\n"
     ]
    },
    {
     "data": {
      "image/png": "[encoded data removed]",
      "text/plain": [
       "<Figure size 640x480 with 2 Axes>"
      ]
     },
     "metadata": {},
     "output_type": "display_data"
    }
   ],
   "source": [
    "reponse = es.search(\n",
    "    index=\"notes\",\n",
    "    body={\n",
    "        \"query\": {\n",
    "            \"match\": {\n",
    "                \"emotion\": \"happy\"\n",
    "            }\n",
    "        },\n",
    "        \"size\": 100  \n",
    "    },\n",
    "    scroll=\"2m\"  \n",
    ")\n",
    "\n",
    "# Récupérer l'ID du défilement initial\n",
    "scroll_id = reponse[\"_scroll_id\"]\n",
    "\n",
    "happy_documents = [hit[\"_source\"][\"text\"] for hit in reponse[\"hits\"][\"hits\"]]\n",
    "\n",
    "while len(reponse[\"hits\"][\"hits\"]) > 0:\n",
    "    reponse = es.scroll(\n",
    "        scroll_id=scroll_id,\n",
    "        scroll=\"2m\"  \n",
    "    )\n",
    "    happy_documents += [hit[\"_source\"][\"text\"] for hit in reponse[\"hits\"][\"hits\"]]\n",
    "\n",
    "mot_cles = [\"sadness\", \"fear\", \"anger\", \"love\", \"surprise\"]\n",
    "\n",
    "nb_mots_cle = {}\n",
    "for mot_cle in mot_cles:\n",
    "    compte = sum(mot_cle.lower() in document.lower() for document in happy_documents)\n",
    "    nb_mots_cle[mot_cle] = compte\n",
    "\n",
    "total_documents = len(happy_documents)\n",
    "mot_cle_percentages = {mot_cle: (compte / total_documents) * 100 for mot_cle, compte in nb_mots_cle.items()}\n",
    "\n",
    "data = [[mot_cle_percentages[mot_cle] for mot_cle in mot_cles]]\n",
    "\n",
    "sns.heatmap(data, cmap=\"Blues\", annot=True, fmt=\".1f\", xticklabels=mot_cles)\n",
    "plt.title(\"Contradictory Sentiments Matrix\")\n",
    "plt.xlabel(\"Sentiments\")\n",
    "plt.ylabel(\"Happy Documents\")\n",
    "plt.show()\n"
   ]
  },
  {
   "cell_type": "code",
   "execution_count": null,
   "metadata": {},
   "outputs": [],
   "source": []
  }
 ],
 "metadata": {
  "kernelspec": {
   "display_name": "machinlearn",
   "language": "python",
   "name": "python3"
  },
  "language_info": {
   "codemirror_mode": {
    "name": "ipython",
    "version": 3
   },
   "file_extension": ".py",
   "mimetype": "text/x-python",
   "name": "python",
   "nbconvert_exporter": "python",
   "pygments_lexer": "ipython3",
   "version": "3.10.11"
  },
  "orig_nbformat": 4
 },
 "nbformat": 4,
 "nbformat_minor": 2
}
